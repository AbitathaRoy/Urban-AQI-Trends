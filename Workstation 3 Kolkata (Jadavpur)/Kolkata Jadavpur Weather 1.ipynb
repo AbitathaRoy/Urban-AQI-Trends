{
  "nbformat": 4,
  "nbformat_minor": 0,
  "metadata": {
    "colab": {
      "provenance": [],
      "collapsed_sections": [
        "2X2Ex3EaiH74",
        "a79qDNVoiLTg"
      ],
      "authorship_tag": "ABX9TyOFGQfmT1eiKsOgTq2YbmEt",
      "include_colab_link": true
    },
    "kernelspec": {
      "name": "python3",
      "display_name": "Python 3"
    },
    "language_info": {
      "name": "python"
    }
  },
  "cells": [
    {
      "cell_type": "markdown",
      "metadata": {
        "id": "view-in-github",
        "colab_type": "text"
      },
      "source": [
        "<a href=\"https://colab.research.google.com/github/AbitathaRoy/Urban-AQI-Trends/blob/main/Workstation%203%20Kolkata%20(Jadavpur)/Kolkata%20Jadavpur%20Weather%201.ipynb\" target=\"_parent\"><img src=\"https://colab.research.google.com/assets/colab-badge.svg\" alt=\"Open In Colab\"/></a>"
      ]
    },
    {
      "cell_type": "markdown",
      "source": [
        "# Initialization"
      ],
      "metadata": {
        "id": "2X2Ex3EaiH74"
      }
    },
    {
      "cell_type": "markdown",
      "source": [
        "## Import packages"
      ],
      "metadata": {
        "id": "poc8YJNlYL3c"
      }
    },
    {
      "cell_type": "code",
      "source": [
        "!pip install catboost\n",
        "!pip install lightgbm\n",
        "!pip install xgboost\n",
        "!pip install adaboost"
      ],
      "metadata": {
        "colab": {
          "base_uri": "https://localhost:8080/"
        },
        "id": "DLr-fNSDjFIp",
        "outputId": "794975f5-3dba-45ed-cf7d-60bbab536e78"
      },
      "execution_count": null,
      "outputs": [
        {
          "output_type": "stream",
          "name": "stdout",
          "text": [
            "Collecting catboost\n",
            "  Downloading catboost-1.2.8-cp312-cp312-manylinux2014_x86_64.whl.metadata (1.2 kB)\n",
            "Requirement already satisfied: graphviz in /usr/local/lib/python3.12/dist-packages (from catboost) (0.21)\n",
            "Requirement already satisfied: matplotlib in /usr/local/lib/python3.12/dist-packages (from catboost) (3.10.0)\n",
            "Requirement already satisfied: numpy<3.0,>=1.16.0 in /usr/local/lib/python3.12/dist-packages (from catboost) (2.0.2)\n",
            "Requirement already satisfied: pandas>=0.24 in /usr/local/lib/python3.12/dist-packages (from catboost) (2.2.2)\n",
            "Requirement already satisfied: scipy in /usr/local/lib/python3.12/dist-packages (from catboost) (1.16.2)\n",
            "Requirement already satisfied: plotly in /usr/local/lib/python3.12/dist-packages (from catboost) (5.24.1)\n",
            "Requirement already satisfied: six in /usr/local/lib/python3.12/dist-packages (from catboost) (1.17.0)\n",
            "Requirement already satisfied: python-dateutil>=2.8.2 in /usr/local/lib/python3.12/dist-packages (from pandas>=0.24->catboost) (2.9.0.post0)\n",
            "Requirement already satisfied: pytz>=2020.1 in /usr/local/lib/python3.12/dist-packages (from pandas>=0.24->catboost) (2025.2)\n",
            "Requirement already satisfied: tzdata>=2022.7 in /usr/local/lib/python3.12/dist-packages (from pandas>=0.24->catboost) (2025.2)\n",
            "Requirement already satisfied: contourpy>=1.0.1 in /usr/local/lib/python3.12/dist-packages (from matplotlib->catboost) (1.3.3)\n",
            "Requirement already satisfied: cycler>=0.10 in /usr/local/lib/python3.12/dist-packages (from matplotlib->catboost) (0.12.1)\n",
            "Requirement already satisfied: fonttools>=4.22.0 in /usr/local/lib/python3.12/dist-packages (from matplotlib->catboost) (4.60.0)\n",
            "Requirement already satisfied: kiwisolver>=1.3.1 in /usr/local/lib/python3.12/dist-packages (from matplotlib->catboost) (1.4.9)\n",
            "Requirement already satisfied: packaging>=20.0 in /usr/local/lib/python3.12/dist-packages (from matplotlib->catboost) (25.0)\n",
            "Requirement already satisfied: pillow>=8 in /usr/local/lib/python3.12/dist-packages (from matplotlib->catboost) (11.3.0)\n",
            "Requirement already satisfied: pyparsing>=2.3.1 in /usr/local/lib/python3.12/dist-packages (from matplotlib->catboost) (3.2.4)\n",
            "Requirement already satisfied: tenacity>=6.2.0 in /usr/local/lib/python3.12/dist-packages (from plotly->catboost) (8.5.0)\n",
            "Downloading catboost-1.2.8-cp312-cp312-manylinux2014_x86_64.whl (99.2 MB)\n",
            "\u001b[2K   \u001b[90m━━━━━━━━━━━━━━━━━━━━━━━━━━━━━━━━━━━━━━━━\u001b[0m \u001b[32m99.2/99.2 MB\u001b[0m \u001b[31m9.0 MB/s\u001b[0m eta \u001b[36m0:00:00\u001b[0m\n",
            "\u001b[?25hInstalling collected packages: catboost\n",
            "Successfully installed catboost-1.2.8\n",
            "Requirement already satisfied: lightgbm in /usr/local/lib/python3.12/dist-packages (4.6.0)\n",
            "Requirement already satisfied: numpy>=1.17.0 in /usr/local/lib/python3.12/dist-packages (from lightgbm) (2.0.2)\n",
            "Requirement already satisfied: scipy in /usr/local/lib/python3.12/dist-packages (from lightgbm) (1.16.2)\n",
            "Requirement already satisfied: xgboost in /usr/local/lib/python3.12/dist-packages (3.0.5)\n",
            "Requirement already satisfied: numpy in /usr/local/lib/python3.12/dist-packages (from xgboost) (2.0.2)\n",
            "Requirement already satisfied: nvidia-nccl-cu12 in /usr/local/lib/python3.12/dist-packages (from xgboost) (2.27.3)\n",
            "Requirement already satisfied: scipy in /usr/local/lib/python3.12/dist-packages (from xgboost) (1.16.2)\n",
            "\u001b[31mERROR: Could not find a version that satisfies the requirement adaboost (from versions: none)\u001b[0m\u001b[31m\n",
            "\u001b[0m\u001b[31mERROR: No matching distribution found for adaboost\u001b[0m\u001b[31m\n",
            "\u001b[0m"
          ]
        }
      ]
    },
    {
      "cell_type": "code",
      "execution_count": null,
      "metadata": {
        "id": "ayM2aXaGfbte"
      },
      "outputs": [],
      "source": [
        "import pandas as pd\n",
        "import numpy as np\n",
        "import matplotlib.pyplot as plt\n",
        "from sklearn.model_selection import train_test_split\n",
        "from sklearn.ensemble import RandomForestRegressor\n",
        "from sklearn.ensemble import AdaBoostRegressor\n",
        "from xgboost import XGBRegressor\n",
        "from lightgbm import LGBMRegressor\n",
        "from sklearn.ensemble import AdaBoostRegressor\n",
        "from catboost import CatBoostRegressor\n",
        "from sklearn.model_selection import cross_val_score\n",
        "from sklearn.metrics import mean_squared_error, mean_absolute_error\n",
        "import seaborn as sns\n",
        "from sklearn.preprocessing import StandardScaler\n",
        "from tqdm import tqdm, trange"
      ]
    },
    {
      "cell_type": "code",
      "source": [
        "!git clone https://github.com/AbitathaRoy/Urban-AQI-Trends.git"
      ],
      "metadata": {
        "colab": {
          "base_uri": "https://localhost:8080/"
        },
        "id": "p-Xj7Y4T6d1a",
        "outputId": "43f92e37-f6ac-4111-926b-9ade778200a6"
      },
      "execution_count": null,
      "outputs": [
        {
          "output_type": "stream",
          "name": "stdout",
          "text": [
            "Cloning into 'Urban-AQI-Trends'...\n",
            "remote: Enumerating objects: 51, done.\u001b[K\n",
            "remote: Counting objects: 100% (51/51), done.\u001b[K\n",
            "remote: Compressing objects: 100% (35/35), done.\u001b[K\n",
            "remote: Total 51 (delta 18), reused 37 (delta 14), pack-reused 0 (from 0)\u001b[K\n",
            "Receiving objects: 100% (51/51), 495.30 KiB | 3.26 MiB/s, done.\n",
            "Resolving deltas: 100% (18/18), done.\n"
          ]
        }
      ]
    },
    {
      "cell_type": "markdown",
      "source": [
        "## Setup Data"
      ],
      "metadata": {
        "id": "EmYwCuIT6VmU"
      }
    },
    {
      "cell_type": "markdown",
      "source": [
        "Initialise dataset"
      ],
      "metadata": {
        "id": "Ai0kALlVYYhM"
      }
    },
    {
      "cell_type": "code",
      "source": [
        "# Jadavpur Kolkata\n",
        "all_dfs = []\n",
        "all_dfs.append(pd.read_csv(\"/content/Urban-AQI-Trends/Workstation 3 Kolkata (Jadavpur)/Raw 2019 Jadavpur Kolkata.csv\"))\n",
        "all_dfs.append(pd.read_csv(\"/content/Urban-AQI-Trends/Workstation 3 Kolkata (Jadavpur)/Raw 2020 Jadavpur Kolkata.csv\"))\n",
        "all_dfs.append(pd.read_csv(\"/content/Urban-AQI-Trends/Workstation 3 Kolkata (Jadavpur)/Raw 2021 Jadavpur Kolkata.csv\"))\n",
        "all_dfs.append(pd.read_csv(\"/content/Urban-AQI-Trends/Workstation 3 Kolkata (Jadavpur)/Raw 2022 Jadavpur Kolkata.csv\"))\n",
        "all_dfs.append(pd.read_csv(\"/content/Urban-AQI-Trends/Workstation 3 Kolkata (Jadavpur)/Raw 2024 Jadavpur Kolkata.csv\"))\n",
        "\n",
        "df = pd.concat(all_dfs, ignore_index=True)"
      ],
      "metadata": {
        "id": "DayXQiiDYXqe"
      },
      "execution_count": null,
      "outputs": []
    },
    {
      "cell_type": "markdown",
      "source": [
        "Exploratory Data Analysis and Data Wrangling"
      ],
      "metadata": {
        "id": "8qHMDN1pfz_3"
      }
    },
    {
      "cell_type": "code",
      "source": [
        "df.info()"
      ],
      "metadata": {
        "colab": {
          "base_uri": "https://localhost:8080/"
        },
        "id": "gy2Lm_Eye4_f",
        "outputId": "e4963361-3c09-4818-d19f-2f512d2acbbb"
      },
      "execution_count": null,
      "outputs": [
        {
          "output_type": "stream",
          "name": "stdout",
          "text": [
            "<class 'pandas.core.frame.DataFrame'>\n",
            "Index: 1376 entries, 365 to 1825\n",
            "Data columns (total 18 columns):\n",
            " #   Column         Non-Null Count  Dtype  \n",
            "---  ------         --------------  -----  \n",
            " 0   Timestamp      1376 non-null   object \n",
            " 1   PM2.5 (µg/m³)  1376 non-null   float64\n",
            " 2   PM10 (µg/m³)   1376 non-null   float64\n",
            " 3   NO (µg/m³)     1376 non-null   float64\n",
            " 4   NO2 (µg/m³)    1376 non-null   float64\n",
            " 5   NOx (ppb)      1376 non-null   float64\n",
            " 6   NH3 (µg/m³)    1376 non-null   float64\n",
            " 7   SO2 (µg/m³)    1376 non-null   float64\n",
            " 8   CO (mg/m³)     1376 non-null   float64\n",
            " 9   Ozone (µg/m³)  1376 non-null   float64\n",
            " 10  AT (°C)        1376 non-null   float64\n",
            " 11  RH (%)         1376 non-null   float64\n",
            " 12  WS (m/s)       1376 non-null   float64\n",
            " 13  WD (deg)       1376 non-null   float64\n",
            " 14  TOT-RF (mm)    1376 non-null   float64\n",
            " 15  SR (W/mt2)     1376 non-null   float64\n",
            " 16  VWS (m/s)      1376 non-null   float64\n",
            " 17  AQI            1376 non-null   float64\n",
            "dtypes: float64(17), object(1)\n",
            "memory usage: 204.2+ KB\n"
          ]
        }
      ]
    },
    {
      "cell_type": "code",
      "source": [
        "#Preprocessing Type 1\n",
        "\n",
        "df.drop(columns=[\"O Xylene (µg/m³)\", \"Unnamed: 1\", \"Xylene (µg/m³)\", \"RF (mm)\"], inplace=True)\n",
        "\n",
        "df[\"Benzene (µg/m³)\"] = df[\"Benzene (µg/m³)\"].fillna(df[\"Benzene (µg/m³)\"].mean())\n",
        "df[\"Toluene (µg/m³)\"] = df[\"Toluene (µg/m³)\"].fillna(df[\"Toluene (µg/m³)\"].mean())\n",
        "df[\"Eth-Benzene (µg/m³)\"] = df[\"Eth-Benzene (µg/m³)\"].fillna(df[\"Eth-Benzene (µg/m³)\"].mean())\n",
        "df[\"MP-Xylene (µg/m³)\"] = df[\"MP-Xylene (µg/m³)\"].fillna(df[\"MP-Xylene (µg/m³)\"].mean())\n",
        "df[\"BP (mmHg)\"] = df[\"BP (mmHg)\"].fillna(df[\"BP (mmHg)\"].mean())"
      ],
      "metadata": {
        "id": "u7kOzlpafwza"
      },
      "execution_count": null,
      "outputs": []
    },
    {
      "cell_type": "code",
      "source": [
        "#Preprocessing Type 2\n",
        "\n",
        "df.drop(columns=[\"O Xylene (µg/m³)\", \"Unnamed: 1\", \"Xylene (µg/m³)\", \"RF (mm)\", \"Benzene (µg/m³)\"], inplace=True)\n",
        "df.drop(columns=[\"Toluene (µg/m³)\", \"Eth-Benzene (µg/m³)\", \"MP-Xylene (µg/m³)\", \"BP (mmHg)\"], inplace=True)\n",
        "\n",
        "# df[\"Benzene (µg/m³)\"] = df[\"Benzene (µg/m³)\"].fillna(df[\"Benzene (µg/m³)\"].mean())\n",
        "# df[\"Toluene (µg/m³)\"] = df[\"Toluene (µg/m³)\"].fillna(df[\"Toluene (µg/m³)\"].mean())\n",
        "# df[\"Eth-Benzene (µg/m³)\"] = df[\"Eth-Benzene (µg/m³)\"].fillna(df[\"Eth-Benzene (µg/m³)\"].mean())\n",
        "# df[\"MP-Xylene (µg/m³)\"] = df[\"MP-Xylene (µg/m³)\"].fillna(df[\"MP-Xylene (µg/m³)\"].mean())\n",
        "# df[\"BP (mmHg)\"] = df[\"BP (mmHg)\"].fillna(df[\"BP (mmHg)\"].mean())"
      ],
      "metadata": {
        "id": "4OUseBR4HbjD"
      },
      "execution_count": null,
      "outputs": []
    },
    {
      "cell_type": "code",
      "source": [
        "df.dropna(axis=0, inplace=True)"
      ],
      "metadata": {
        "id": "3v6ToLh3gaGz"
      },
      "execution_count": null,
      "outputs": []
    },
    {
      "cell_type": "code",
      "source": [
        "correlation_matrix = df.drop(columns=[\"Timestamp\"]).corr()\n",
        "correlation_array_aqi = correlation_matrix.loc[\"AQI\"].drop([\"AQI\"])\n",
        "# correlation_array_aqi = np.transpose(correlation_array_aqi)\n",
        "# print(correlation_array_aqi.values)\n",
        "\n",
        "plt.figure(figsize=(8, 6))\n",
        "num_bars = len(correlation_array_aqi)\n",
        "colors = sns.color_palette(\"icefire\", n_colors=num_bars)\n",
        "sns.barplot(x=correlation_array_aqi.values,\n",
        "            y=correlation_array_aqi.index,\n",
        "            hue=correlation_array_aqi.index,\n",
        "            palette=colors,\n",
        "            legend=False)\n",
        "plt.title('Correlation of Features with AQI')\n",
        "plt.xlabel('Features')\n",
        "plt.ylabel('Correlation Coefficient')\n",
        "plt.tight_layout()\n",
        "plt.show()"
      ],
      "metadata": {
        "colab": {
          "base_uri": "https://localhost:8080/",
          "height": 607
        },
        "id": "ssScwQOxCyOG",
        "outputId": "a9e0c308-69a7-4550-e431-7f4cbb87bfc8"
      },
      "execution_count": null,
      "outputs": [
        {
          "output_type": "display_data",
          "data": {
            "text/plain": [
              "<Figure size 800x600 with 1 Axes>"
            ],
            "image/png": "[encoded data removed]"
          },
          "metadata": {}
        }
      ]
    },
    {
      "cell_type": "markdown",
      "source": [
        "Pipeline"
      ],
      "metadata": {
        "id": "JNEomsNcOoNp"
      }
    },
    {
      "cell_type": "code",
      "source": [
        "sorted_features = abs(correlation_array_aqi).sort_values(ascending=False)\n",
        "sorted_features_list = sorted_features.index.tolist()"
      ],
      "metadata": {
        "id": "8QOtZizuOqB2"
      },
      "execution_count": null,
      "outputs": []
    },
    {
      "cell_type": "code",
      "source": [
        "def select_top_features(X, sorted_features_list, i):\n",
        "  \"\"\"\n",
        "  Selects the top i features from the DataFrame X based on the sorted feature list.\n",
        "\n",
        "  Args:\n",
        "    X: The original feature DataFrame.\n",
        "    sorted_features_list: A list of features sorted by correlation in descending order.\n",
        "    i: The number of top features to select.\n",
        "\n",
        "  Returns:\n",
        "    A DataFrame containing the top i features.\n",
        "  \"\"\"\n",
        "  top_features = sorted_features_list[:i]\n",
        "  return X[top_features]"
      ],
      "metadata": {
        "id": "YWrcSQ-7Q6vC"
      },
      "execution_count": null,
      "outputs": []
    },
    {
      "cell_type": "code",
      "source": [
        "from sklearn.model_selection import cross_val_score\n",
        "from sklearn.metrics import mean_squared_error, mean_absolute_error, r2_score\n",
        "from sklearn.linear_model import LinearRegression\n",
        "\n",
        "def evaluate_model(model, X_subset, y):\n",
        "  \"\"\"\n",
        "  Evaluates a model using cross-validation and calculates R-squared, MSE, and MAE.\n",
        "\n",
        "  Args:\n",
        "    model: The machine learning model to evaluate.\n",
        "    X_subset: The DataFrame containing the selected features.\n",
        "    y: The target Series.\n",
        "\n",
        "  Returns:\n",
        "    A dictionary containing the mean R-squared, MSE, and MAE scores from cross-validation.\n",
        "  \"\"\"\n",
        "  # Perform cross-validation\n",
        "  r2_scores = cross_val_score(model, X_subset, y, scoring='r2', cv=5)\n",
        "  mse_scores = cross_val_score(model, X_subset, y, scoring='neg_mean_squared_error', cv=5)\n",
        "  mae_scores = cross_val_score(model, X_subset, y, scoring='neg_mean_absolute_error', cv=5)\n",
        "\n",
        "  mse_scores = abs(mse_scores)\n",
        "  mae_scores = abs(mae_scores)\n",
        "\n",
        "  # Calculate mean scores\n",
        "  mean_r2 = r2_scores.mean()\n",
        "  mean_mse = mse_scores.mean()\n",
        "  mean_mae = mae_scores.mean()\n",
        "\n",
        "  return {\n",
        "      'R-squared': mean_r2,\n",
        "      'MSE': mean_mse,\n",
        "      'MAE': mean_mae\n",
        "  }"
      ],
      "metadata": {
        "id": "x0lnkonqQ-51"
      },
      "execution_count": null,
      "outputs": []
    },
    {
      "cell_type": "code",
      "source": [
        "def find_best_features_and_model(model, X_train, y_train, sorted_features_list):\n",
        "  \"\"\"\n",
        "  Finds the best number of features for a given model based on evaluation metrics.\n",
        "\n",
        "  Args:\n",
        "    model: An initialized machine learning model.\n",
        "    X_train: The training features DataFrame.\n",
        "    y_train: The training target Series.\n",
        "    sorted_features_list: A list of features sorted by correlation in descending order.\n",
        "\n",
        "  Returns:\n",
        "    A dictionary containing the best evaluation scores and the number of features used.\n",
        "  \"\"\"\n",
        "  best_r2 = -float('inf')\n",
        "  best_mse = float('inf')\n",
        "  best_mae = float('inf')\n",
        "  best_i = 0\n",
        "  results = []\n",
        "\n",
        "  for i in trange(1, len(sorted_features_list) + 1):\n",
        "    # Select top i features\n",
        "    X_subset = select_top_features(X_train, sorted_features_list, i)\n",
        "\n",
        "    # Not required.\n",
        "    model.fit(X_subset, y_train)\n",
        "\n",
        "    # Evaluate the model with the selected features\n",
        "    scores = evaluate_model(model, X_subset, y_train)\n",
        "    results.append({'num_features': i, **scores})\n",
        "\n",
        "    # Check for best performance based on R-squared (highest), then MSE (lowest), then MAE (lowest)\n",
        "    if scores['R-squared'] > best_r2:\n",
        "        best_r2 = scores['R-squared']\n",
        "        best_mse = scores['MSE']\n",
        "        best_mae = scores['MAE']\n",
        "        best_i = i\n",
        "    elif scores['R-squared'] == best_r2:\n",
        "        if scores['MSE'] < best_mse:\n",
        "            best_mse = scores['MSE']\n",
        "            best_mae = scores['MAE']\n",
        "            best_i = i\n",
        "        elif scores['MSE'] == best_mse:\n",
        "            if scores['MAE'] < best_mae:\n",
        "                best_mae = scores['MAE']\n",
        "                best_i = i\n",
        "\n",
        "    # Add slider\n",
        "\n",
        "  print()\n",
        "  print(\"--Cross Validation Analysis--\")\n",
        "  print(f\"Best performance with {best_i} features:\")\n",
        "  print(f\"R-squared: {best_r2:.4f}\")\n",
        "  print(f\"MSE: {best_mse:.4f}\")\n",
        "  print(f\"MAE: {best_mae:.4f}\")\n",
        "  print(f\"Features used: {sorted_features_list[:best_i]}\")\n",
        "  # print()\n",
        "\n",
        "  return best_i"
      ],
      "metadata": {
        "id": "QQiH2hE0VzMx"
      },
      "execution_count": null,
      "outputs": []
    },
    {
      "cell_type": "markdown",
      "source": [
        "Training and Testing Sets"
      ],
      "metadata": {
        "id": "_-FxfGBghQfI"
      }
    },
    {
      "cell_type": "code",
      "source": [
        "y = df[\"AQI\"]\n",
        "X = df.drop(columns=[\"Timestamp\", \"AQI\"])\n",
        "\n",
        "scaler = StandardScaler()\n",
        "X_standardized = scaler.fit_transform(X)\n",
        "X_standardized_wrapped = pd.DataFrame(\n",
        "    X_standardized,\n",
        "    columns=X.columns\n",
        ")\n",
        "\n",
        "X_train, X_test, y_train, y_test = train_test_split(X_standardized_wrapped, y, random_state=24, train_size=0.7)"
      ],
      "metadata": {
        "id": "fcTGbP9rhMhc"
      },
      "execution_count": null,
      "outputs": []
    },
    {
      "cell_type": "markdown",
      "source": [
        "Status"
      ],
      "metadata": {
        "id": "P3pzMtaJ7KFV"
      }
    },
    {
      "cell_type": "code",
      "source": [
        "print(f\"Experiment running on {len(df)} unique daily entries from 2019 to 2022 and 2024.\")"
      ],
      "metadata": {
        "colab": {
          "base_uri": "https://localhost:8080/"
        },
        "id": "NgiEL5fs7Hho",
        "outputId": "c8a749a9-65bf-4d30-d4d5-0af0ebf2e548"
      },
      "execution_count": null,
      "outputs": [
        {
          "output_type": "stream",
          "name": "stdout",
          "text": [
            "Experiment running on 1376 unique daily entries from 2019 to 2022 and 2024.\n"
          ]
        }
      ]
    },
    {
      "cell_type": "markdown",
      "source": [
        "# Machine Learning Algorithms"
      ],
      "metadata": {
        "id": "a79qDNVoiLTg"
      }
    },
    {
      "cell_type": "markdown",
      "source": [
        "Random Forest"
      ],
      "metadata": {
        "id": "hKDbYiX5iE69"
      }
    },
    {
      "cell_type": "code",
      "source": [
        "def random_forest():\n",
        "  model = RandomForestRegressor(\n",
        "      n_estimators=50,\n",
        "      criterion='squared_error',\n",
        "      max_depth=None,\n",
        "      min_samples_split=2,\n",
        "      min_samples_leaf=1,\n",
        "      max_leaf_nodes=None,\n",
        "      random_state=24,\n",
        "      verbose=0,\n",
        "      n_jobs=-1\n",
        "  )\n",
        "\n",
        "  cross_val_scores = cross_val_score(\n",
        "      estimator=model,\n",
        "      X=X_train,\n",
        "      y=y_train,\n",
        "      verbose=0,\n",
        "      cv=5,\n",
        "      n_jobs=-1\n",
        "  )\n",
        "\n",
        "  model.fit(X_train, y_train)\n",
        "  y_pred = model.predict(X_test)\n",
        "  mse = mean_squared_error(y_test, y_pred)\n",
        "  mae = mean_absolute_error(y_test, y_pred)\n",
        "\n",
        "  print(\"-Random Forest-\")\n",
        "  print(f\"Cross Validation Score = {round(cross_val_scores.mean(), 4)}\")\n",
        "  print(f\"R^2 Score = {round(model.score(X_test, y_test), 4)}\")\n",
        "  print(f\"MSE = {round(mse, 4)}\")\n",
        "  print(f\"MAE = {round(mae, 4)}\")\n",
        "\n",
        "random_forest()"
      ],
      "metadata": {
        "colab": {
          "base_uri": "https://localhost:8080/"
        },
        "id": "5mbQX_2CiA67",
        "outputId": "379aa1a2-eda7-4caf-ff00-059500d2ce54"
      },
      "execution_count": null,
      "outputs": [
        {
          "output_type": "stream",
          "name": "stdout",
          "text": [
            "-Random Forest-\n",
            "Cross Validation Score = 0.908\n",
            "R^2 Score = 0.9013\n",
            "MSE = 247.5536\n",
            "MAE = 10.3055\n"
          ]
        }
      ]
    },
    {
      "cell_type": "markdown",
      "source": [
        "Adaboost"
      ],
      "metadata": {
        "id": "uuctxHAyng9p"
      }
    },
    {
      "cell_type": "code",
      "source": [
        "def adaboost():\n",
        "  model = AdaBoostRegressor(\n",
        "      n_estimators=100,\n",
        "      learning_rate=0.05,\n",
        "      loss='linear',\n",
        "      random_state=24\n",
        "  )\n",
        "\n",
        "  cross_val_scores = cross_val_score(\n",
        "      estimator=model,\n",
        "      X=X_train,\n",
        "      y=y_train,\n",
        "      verbose=0,\n",
        "      cv=5,\n",
        "      n_jobs=-1\n",
        "  )\n",
        "\n",
        "  model.fit(X_train, y_train)\n",
        "  y_pred = model.predict(X_test)\n",
        "  mse = mean_squared_error(y_test, y_pred)\n",
        "  mae = mean_absolute_error(y_test, y_pred)\n",
        "\n",
        "  print(\"-AdaBoost-\")\n",
        "  print(f\"Cross Validation Score = {round(cross_val_scores.mean(), 4)}\")\n",
        "  print(f\"R^2 Score = {round(model.score(X_test, y_test), 4)}\")\n",
        "  print(f\"MSE = {round(mse, 4)}\")\n",
        "  print(f\"MAE = {round(mae, 4)}\")\n",
        "\n",
        "adaboost()"
      ],
      "metadata": {
        "colab": {
          "base_uri": "https://localhost:8080/"
        },
        "id": "D1hWhV3Wnhuh",
        "outputId": "44d08041-3e6b-4597-8169-44e1cc08623a"
      },
      "execution_count": null,
      "outputs": [
        {
          "output_type": "stream",
          "name": "stdout",
          "text": [
            "-AdaBoost-\n",
            "Cross Validation Score = 0.8921\n",
            "R^2 Score = 0.8942\n",
            "MSE = 265.4923\n",
            "MAE = 11.2579\n"
          ]
        }
      ]
    },
    {
      "cell_type": "markdown",
      "source": [
        "CatBoost"
      ],
      "metadata": {
        "id": "fUJ_AyFupRx_"
      }
    },
    {
      "cell_type": "code",
      "source": [
        "def catboost():\n",
        "  model = CatBoostRegressor(\n",
        "      learning_rate=0.05,\n",
        "      depth=None,\n",
        "      loss_function='RMSE',\n",
        "      verbose=0,\n",
        "      n_estimators=500,\n",
        "      early_stopping_rounds=50\n",
        "  )\n",
        "\n",
        "  cross_val_scores = cross_val_score(\n",
        "      estimator=model,\n",
        "      X=X_train,\n",
        "      y=y_train,\n",
        "      verbose=0,\n",
        "      cv=5,\n",
        "      n_jobs=-1\n",
        "  )\n",
        "\n",
        "  model.fit(X_train, y_train)\n",
        "  y_pred = model.predict(X_test)\n",
        "  mse = mean_squared_error(y_test, y_pred)\n",
        "  mae = mean_absolute_error(y_test, y_pred)\n",
        "\n",
        "  print(\"-CatBoost-\")\n",
        "  print(f\"Cross Validation Score = {round(cross_val_scores.mean(), 4)}\")\n",
        "  print(f\"R^2 Score = {round(model.score(X_test, y_test), 4)}\")\n",
        "  print(f\"MSE = {round(mse, 4)}\")\n",
        "  print(f\"MAE = {round(mae, 4)}\")\n",
        "\n",
        "catboost()"
      ],
      "metadata": {
        "colab": {
          "base_uri": "https://localhost:8080/"
        },
        "id": "rzWfeaXQns08",
        "outputId": "23f59c7f-446f-4d4d-d845-a27b8434f467"
      },
      "execution_count": null,
      "outputs": [
        {
          "output_type": "stream",
          "name": "stdout",
          "text": [
            "-CatBoost-\n",
            "Cross Validation Score = 0.9084\n",
            "R^2 Score = 0.9122\n",
            "MSE = 220.2486\n",
            "MAE = 10.2545\n"
          ]
        }
      ]
    },
    {
      "cell_type": "markdown",
      "source": [
        "XGBoost"
      ],
      "metadata": {
        "id": "ghBxaTaIr0H4"
      }
    },
    {
      "cell_type": "code",
      "source": [
        "def xgboost():\n",
        "  model = XGBRegressor(\n",
        "      n_estimators=200,\n",
        "      max_depth=None,\n",
        "      learning_rate=0.05,\n",
        "      n_jobs=-1\n",
        "  )\n",
        "\n",
        "  cross_val_scores = cross_val_score(\n",
        "      estimator=model,\n",
        "      X=X_train,\n",
        "      y=y_train,\n",
        "      verbose=0,\n",
        "      cv=5,\n",
        "      n_jobs=-1\n",
        "  )\n",
        "\n",
        "  model.fit(X_train, y_train)\n",
        "  y_pred = model.predict(X_test)\n",
        "  mse = mean_squared_error(y_test, y_pred)\n",
        "  mae = mean_absolute_error(y_test, y_pred)\n",
        "\n",
        "  print(\"-XGBoost-\")\n",
        "  print(f\"Cross Validation Score = {round(cross_val_scores.mean(), 4)}\")\n",
        "  print(f\"R^2 Score = {round(model.score(X_test, y_test), 4)}\")\n",
        "  print(f\"MSE = {round(mse, 4)}\")\n",
        "  print(f\"MAE = {round(mae, 4)}\")\n",
        "\n",
        "xgboost()"
      ],
      "metadata": {
        "colab": {
          "base_uri": "https://localhost:8080/"
        },
        "id": "fG_AUM5Mrzt7",
        "outputId": "821138b8-bfdd-4630-e910-e42c2424f68d"
      },
      "execution_count": null,
      "outputs": [
        {
          "output_type": "stream",
          "name": "stdout",
          "text": [
            "-XGBoost-\n",
            "Cross Validation Score = 0.9063\n",
            "R^2 Score = 0.9045\n",
            "MSE = 239.6883\n",
            "MAE = 10.3028\n"
          ]
        }
      ]
    },
    {
      "cell_type": "markdown",
      "source": [
        "LightGBM"
      ],
      "metadata": {
        "id": "Qv7W-q6UtE6E"
      }
    },
    {
      "cell_type": "code",
      "source": [
        "def lightgbm():\n",
        "  model = LGBMRegressor(\n",
        "      num_leaves=31,\n",
        "      max_depth=-1,\n",
        "      learning_rate=0.05,\n",
        "      n_estimators=100,\n",
        "      min_child_samples=1,\n",
        "      random_state=24,\n",
        "      n_jobs=-1,\n",
        "      verbose=0\n",
        "  )\n",
        "\n",
        "  cross_val_scores = cross_val_score(\n",
        "      estimator=model,\n",
        "      X=X_train,\n",
        "      y=y_train,\n",
        "      verbose=0,\n",
        "      cv=5,\n",
        "      n_jobs=-1\n",
        "  )\n",
        "\n",
        "  model.fit(X_train, y_train)\n",
        "  y_pred = model.predict(X_test)\n",
        "  mse = mean_squared_error(y_test, y_pred)\n",
        "  mae = mean_absolute_error(y_test, y_pred)\n",
        "\n",
        "  print(\"-LightGBM-\")\n",
        "  print(f\"Cross Validation Score = {round(cross_val_scores.mean(), 4)}\")\n",
        "  print(f\"R^2 Score = {round(model.score(X_test, y_test), 4)}\")\n",
        "  print(f\"MSE = {round(mse, 4)}\")\n",
        "  print(f\"MAE = {round(mae, 4)}\")\n",
        "\n",
        "lightgbm()"
      ],
      "metadata": {
        "colab": {
          "base_uri": "https://localhost:8080/"
        },
        "id": "5a9qj89Ynujh",
        "outputId": "45de2e2b-8f99-4593-b589-cb12af3ff7cc"
      },
      "execution_count": null,
      "outputs": [
        {
          "output_type": "stream",
          "name": "stdout",
          "text": [
            "-LightGBM-\n",
            "Cross Validation Score = 0.9084\n",
            "R^2 Score = 0.9043\n",
            "MSE = 240.2023\n",
            "MAE = 10.1504\n"
          ]
        },
        {
          "output_type": "stream",
          "name": "stderr",
          "text": [
            "/usr/local/lib/python3.12/dist-packages/sklearn/utils/validation.py:2739: UserWarning: X does not have valid feature names, but LGBMRegressor was fitted with feature names\n",
            "  warnings.warn(\n",
            "/usr/local/lib/python3.12/dist-packages/sklearn/utils/validation.py:2739: UserWarning: X does not have valid feature names, but LGBMRegressor was fitted with feature names\n",
            "  warnings.warn(\n"
          ]
        }
      ]
    },
    {
      "cell_type": "markdown",
      "source": [
        "# Machine Learning Algorithms using Pipeline"
      ],
      "metadata": {
        "id": "Aslqn0OIR0KJ"
      }
    },
    {
      "cell_type": "markdown",
      "source": [
        "Random Forest"
      ],
      "metadata": {
        "id": "ohywUCW6SHUr"
      }
    },
    {
      "cell_type": "code",
      "source": [
        "model = RandomForestRegressor(\n",
        "    n_estimators=50,\n",
        "    criterion='squared_error',\n",
        "    max_depth=None,\n",
        "    min_samples_split=2,\n",
        "    min_samples_leaf=1,\n",
        "    max_leaf_nodes=None,\n",
        "    random_state=24,\n",
        "    verbose=0,\n",
        "    n_jobs=-1\n",
        ")\n",
        "\n",
        "print(\"-Random Forest-\")\n",
        "\n",
        "# print(\"--Cross Validation Analysis--\")\n",
        "i = find_best_features_and_model(model, X_train, y_train, sorted_features_list)\n",
        "\n",
        "# Extract optimum subset\n",
        "X_train_subset = select_top_features(X_train, sorted_features_list, i)\n",
        "X_test_subset = select_top_features(X_test, sorted_features_list, i)\n",
        "\n",
        "print(\"--Model Analysis--\")\n",
        "model.fit(X_train_subset, y_train)\n",
        "y_pred = model.predict(X_test_subset)\n",
        "mse = mean_squared_error(y_test, y_pred)\n",
        "mae = mean_absolute_error(y_test, y_pred)\n",
        "\n",
        "print(f\"R^2 Score = {round(model.score(X_test_subset, y_test), 4)}\")\n",
        "print(f\"MSE = {round(mse, 4)}\")\n",
        "print(f\"MAE = {round(mae, 4)}\")\n",
        "print()"
      ],
      "metadata": {
        "id": "WNy7gLpfuVKU",
        "colab": {
          "base_uri": "https://localhost:8080/"
        },
        "outputId": "8aecebc2-bf8d-4e53-aaf3-721e3a3fbf70"
      },
      "execution_count": null,
      "outputs": [
        {
          "output_type": "stream",
          "name": "stdout",
          "text": [
            "-Random Forest-\n"
          ]
        },
        {
          "output_type": "stream",
          "name": "stderr",
          "text": [
            "100%|██████████| 16/16 [01:06<00:00,  4.13s/it]\n"
          ]
        },
        {
          "output_type": "stream",
          "name": "stdout",
          "text": [
            "\n",
            "--Cross Validation Analysis--\n",
            "Best performance with 15 features:\n",
            "R-squared: 0.9611\n",
            "MSE: 272.3138\n",
            "MAE: 10.8090\n",
            "Features used: ['PM2.5 (µg/m³)', 'PM10 (µg/m³)', 'CO (mg/m³)', 'AT (°C)', 'WD (deg)', 'NOx (ppb)', 'RH (%)', 'NO (µg/m³)', 'NO2 (µg/m³)', 'WS (m/s)', 'VWS (m/s)', 'NH3 (µg/m³)', 'SO2 (µg/m³)', 'TOT-RF (mm)', 'Ozone (µg/m³)']\n",
            "--Model Analysis--\n",
            "R^2 Score = 0.9673\n",
            "MSE = 227.9157\n",
            "MAE = 9.944\n",
            "\n"
          ]
        }
      ]
    },
    {
      "cell_type": "markdown",
      "source": [
        "Adaboost"
      ],
      "metadata": {
        "id": "-H8isEIES_s-"
      }
    },
    {
      "cell_type": "code",
      "source": [
        "model = AdaBoostRegressor(\n",
        "      n_estimators=100,\n",
        "      learning_rate=0.05,\n",
        "      loss='linear',\n",
        "      random_state=24\n",
        ")\n",
        "\n",
        "print(\"-AdaBoost-\")\n",
        "\n",
        "# print(\"--Cross Validation Analysis--\")\n",
        "i = find_best_features_and_model(model, X_train, y_train, sorted_features_list)\n",
        "\n",
        "# Extract optimum subset\n",
        "X_train_subset = select_top_features(X_train, sorted_features_list, i)\n",
        "X_test_subset = select_top_features(X_test, sorted_features_list, i)\n",
        "\n",
        "print(\"--Model Analysis--\")\n",
        "model.fit(X_train_subset, y_train)\n",
        "y_pred = model.predict(X_test_subset)\n",
        "mse = mean_squared_error(y_test, y_pred)\n",
        "mae = mean_absolute_error(y_test, y_pred)\n",
        "\n",
        "print(f\"R^2 Score = {round(model.score(X_test_subset, y_test), 4)}\")\n",
        "print(f\"MSE = {round(mse, 4)}\")\n",
        "print(f\"MAE = {round(mae, 4)}\")\n",
        "print()"
      ],
      "metadata": {
        "colab": {
          "base_uri": "https://localhost:8080/"
        },
        "id": "Cxf8oRj0TAdS",
        "outputId": "a9329a4f-768c-4f7f-e14c-35dd40dd45d9"
      },
      "execution_count": null,
      "outputs": [
        {
          "output_type": "stream",
          "name": "stdout",
          "text": [
            "-AdaBoost-\n"
          ]
        },
        {
          "output_type": "stream",
          "name": "stderr",
          "text": [
            "100%|██████████| 16/16 [01:35<00:00,  5.98s/it]\n"
          ]
        },
        {
          "output_type": "stream",
          "name": "stdout",
          "text": [
            "\n",
            "--Cross Validation Analysis--\n",
            "Best performance with 5 features:\n",
            "R-squared: 0.9515\n",
            "MSE: 338.3662\n",
            "MAE: 13.0099\n",
            "Features used: ['PM2.5 (µg/m³)', 'PM10 (µg/m³)', 'CO (mg/m³)', 'AT (°C)', 'WD (deg)']\n",
            "--Model Analysis--\n",
            "R^2 Score = 0.9593\n",
            "MSE = 283.7409\n",
            "MAE = 12.2866\n",
            "\n"
          ]
        }
      ]
    },
    {
      "cell_type": "markdown",
      "source": [
        "Catboost"
      ],
      "metadata": {
        "id": "O7DKAj5zVJAM"
      }
    },
    {
      "cell_type": "code",
      "source": [
        "model = CatBoostRegressor(\n",
        "      learning_rate=0.05,\n",
        "      depth=None,\n",
        "      loss_function='RMSE',\n",
        "      verbose=0,\n",
        "      n_estimators=500,\n",
        "      early_stopping_rounds=50\n",
        ")\n",
        "\n",
        "print(\"-CatBoost-\")\n",
        "\n",
        "# print(\"--Cross Validation Analysis--\")\n",
        "i = find_best_features_and_model(model, X_train, y_train, sorted_features_list)\n",
        "\n",
        "# Extract optimum subset\n",
        "X_train_subset = select_top_features(X_train, sorted_features_list, i)\n",
        "X_test_subset = select_top_features(X_test, sorted_features_list, i)\n",
        "\n",
        "print(\"--Model Analysis--\")\n",
        "model.fit(X_train_subset, y_train)\n",
        "y_pred = model.predict(X_test_subset)\n",
        "mse = mean_squared_error(y_test, y_pred)\n",
        "mae = mean_absolute_error(y_test, y_pred)\n",
        "\n",
        "print(f\"R^2 Score = {round(model.score(X_test_subset, y_test), 4)}\")\n",
        "print(f\"MSE = {round(mse, 4)}\")\n",
        "print(f\"MAE = {round(mae, 4)}\")\n",
        "print()"
      ],
      "metadata": {
        "colab": {
          "base_uri": "https://localhost:8080/"
        },
        "id": "EIeP6IsNVJl7",
        "outputId": "ff95e753-7c1d-4439-c99a-0efad707b9e7"
      },
      "execution_count": null,
      "outputs": [
        {
          "output_type": "stream",
          "name": "stdout",
          "text": [
            "-CatBoost-\n"
          ]
        },
        {
          "output_type": "stream",
          "name": "stderr",
          "text": [
            "100%|██████████| 16/16 [03:53<00:00, 14.58s/it]\n"
          ]
        },
        {
          "output_type": "stream",
          "name": "stdout",
          "text": [
            "\n",
            "--Cross Validation Analysis--\n",
            "Best performance with 15 features:\n",
            "R-squared: 0.9625\n",
            "MSE: 261.1365\n",
            "MAE: 10.7213\n",
            "Features used: ['PM2.5 (µg/m³)', 'PM10 (µg/m³)', 'CO (mg/m³)', 'AT (°C)', 'WD (deg)', 'NOx (ppb)', 'RH (%)', 'NO (µg/m³)', 'NO2 (µg/m³)', 'WS (m/s)', 'VWS (m/s)', 'NH3 (µg/m³)', 'SO2 (µg/m³)', 'TOT-RF (mm)', 'Ozone (µg/m³)']\n",
            "--Model Analysis--\n",
            "R^2 Score = 0.9666\n",
            "MSE = 232.6868\n",
            "MAE = 10.125\n",
            "\n"
          ]
        }
      ]
    },
    {
      "cell_type": "markdown",
      "source": [
        "XGBoost"
      ],
      "metadata": {
        "id": "nc6cmb-lVNc2"
      }
    },
    {
      "cell_type": "code",
      "source": [
        "model = XGBRegressor(\n",
        "      n_estimators=200,\n",
        "      max_depth=None,\n",
        "      learning_rate=0.05,\n",
        "      n_jobs=-1\n",
        ")\n",
        "\n",
        "print(\"-XGBoost-\")\n",
        "\n",
        "# print(\"--Cross Validation Analysis--\")\n",
        "i = find_best_features_and_model(model, X_train, y_train, sorted_features_list)\n",
        "\n",
        "# Extract optimum subset\n",
        "X_train_subset = select_top_features(X_train, sorted_features_list, i)\n",
        "X_test_subset = select_top_features(X_test, sorted_features_list, i)\n",
        "\n",
        "print(\"--Model Analysis--\")\n",
        "model.fit(X_train_subset, y_train)\n",
        "y_pred = model.predict(X_test_subset)\n",
        "mse = mean_squared_error(y_test, y_pred)\n",
        "mae = mean_absolute_error(y_test, y_pred)\n",
        "\n",
        "print(f\"R^2 Score = {round(model.score(X_test_subset, y_test), 4)}\")\n",
        "print(f\"MSE = {round(mse, 4)}\")\n",
        "print(f\"MAE = {round(mae, 4)}\")\n",
        "print()"
      ],
      "metadata": {
        "colab": {
          "base_uri": "https://localhost:8080/"
        },
        "id": "NA80CQUPVOSc",
        "outputId": "e4acb698-67e9-469c-cf67-8a05236ead33"
      },
      "execution_count": null,
      "outputs": [
        {
          "output_type": "stream",
          "name": "stdout",
          "text": [
            "-XGBoost-\n"
          ]
        },
        {
          "output_type": "stream",
          "name": "stderr",
          "text": [
            "100%|██████████| 16/16 [01:27<00:00,  5.48s/it]\n"
          ]
        },
        {
          "output_type": "stream",
          "name": "stdout",
          "text": [
            "\n",
            "--Cross Validation Analysis--\n",
            "Best performance with 16 features:\n",
            "R-squared: 0.9599\n",
            "MSE: 278.5727\n",
            "MAE: 10.8597\n",
            "Features used: ['PM2.5 (µg/m³)', 'PM10 (µg/m³)', 'CO (mg/m³)', 'AT (°C)', 'WD (deg)', 'NOx (ppb)', 'RH (%)', 'NO (µg/m³)', 'NO2 (µg/m³)', 'WS (m/s)', 'VWS (m/s)', 'NH3 (µg/m³)', 'SO2 (µg/m³)', 'TOT-RF (mm)', 'Ozone (µg/m³)', 'SR (W/mt2)']\n",
            "--Model Analysis--\n",
            "R^2 Score = 0.965\n",
            "MSE = 243.7505\n",
            "MAE = 10.1682\n",
            "\n"
          ]
        }
      ]
    },
    {
      "cell_type": "markdown",
      "source": [
        "LightGBM"
      ],
      "metadata": {
        "id": "zp7IZMXmVPE5"
      }
    },
    {
      "cell_type": "code",
      "source": [
        "model = LGBMRegressor(\n",
        "      num_leaves=31,\n",
        "      max_depth=-1,\n",
        "      learning_rate=0.05,\n",
        "      n_estimators=100,\n",
        "      min_child_samples=1,\n",
        "      random_state=24,\n",
        "      n_jobs=-1,\n",
        "      verbose=-1\n",
        ")\n",
        "\n",
        "print(\"-LightGBM-\")\n",
        "\n",
        "# print(\"--Cross Validation Analysis--\")\n",
        "i = find_best_features_and_model(model, X_train, y_train, sorted_features_list)\n",
        "\n",
        "# Extract optimum subset\n",
        "X_train_subset = select_top_features(X_train, sorted_features_list, i)\n",
        "X_test_subset = select_top_features(X_test, sorted_features_list, i)\n",
        "\n",
        "print(\"--Model Analysis--\")\n",
        "model.fit(X_train_subset, y_train)\n",
        "y_pred = model.predict(X_test_subset)\n",
        "mse = mean_squared_error(y_test, y_pred)\n",
        "mae = mean_absolute_error(y_test, y_pred)\n",
        "\n",
        "print(f\"R^2 Score = {round(model.score(X_test_subset, y_test), 4)}\")\n",
        "print(f\"MSE = {round(mse, 4)}\")\n",
        "print(f\"MAE = {round(mae, 4)}\")\n",
        "print()"
      ],
      "metadata": {
        "id": "Wz6bNif-VQS4",
        "colab": {
          "base_uri": "https://localhost:8080/"
        },
        "outputId": "348ced4c-3af8-4c38-e349-712aff882b18"
      },
      "execution_count": null,
      "outputs": [
        {
          "output_type": "stream",
          "name": "stdout",
          "text": [
            "-LightGBM-\n"
          ]
        },
        {
          "output_type": "stream",
          "name": "stderr",
          "text": [
            "100%|██████████| 16/16 [00:25<00:00,  1.62s/it]"
          ]
        },
        {
          "output_type": "stream",
          "name": "stdout",
          "text": [
            "\n",
            "--Cross Validation Analysis--\n",
            "Best performance with 11 features:\n",
            "R-squared: 0.9595\n",
            "MSE: 282.5151\n",
            "MAE: 11.1023\n",
            "Features used: ['PM2.5 (µg/m³)', 'PM10 (µg/m³)', 'CO (mg/m³)', 'AT (°C)', 'WD (deg)', 'NOx (ppb)', 'RH (%)', 'NO (µg/m³)', 'NO2 (µg/m³)', 'WS (m/s)', 'VWS (m/s)']\n",
            "--Model Analysis--\n",
            "R^2 Score = 0.9664\n",
            "MSE = 234.1043\n",
            "MAE = 10.0341\n",
            "\n"
          ]
        },
        {
          "output_type": "stream",
          "name": "stderr",
          "text": [
            "\n"
          ]
        }
      ]
    }
  ]
}